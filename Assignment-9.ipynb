{
 "cells": [
  {
   "cell_type": "markdown",
   "id": "5f1495e0-3a4b-47af-8383-4adbddd4c949",
   "metadata": {},
   "source": [
    "#### (1)-"
   ]
  },
  {
   "cell_type": "code",
   "execution_count": 1,
   "id": "4aeae9d6-0c7d-43d4-9ca6-11eefa802b83",
   "metadata": {},
   "outputs": [
    {
     "data": {
      "text/plain": [
       "('mercedes benz', 250, 100)"
      ]
     },
     "execution_count": 1,
     "metadata": {},
     "output_type": "execute_result"
    }
   ],
   "source": [
    "class vehicle:\n",
    "    def __init__(self, name_of_vehicle, max_speed, average_of_vehicle):\n",
    "        self.name_of_vehicle= name_of_vehicle\n",
    "        self.max_speed= max_speed\n",
    "        self.average_of_vehicle= average_of_vehicle\n",
    "    \n",
    "    def func(self):\n",
    "        return  self.name_of_vehicle, self.max_speed, self.average_of_vehicle\n",
    "    \n",
    "obj_vehicle= vehicle(\"mercedes benz\",250, 100)\n",
    "obj_vehicle.func()"
   ]
  },
  {
   "cell_type": "markdown",
   "id": "c1611949-82e9-47ee-8eae-55a54ae99444",
   "metadata": {},
   "source": [
    "#### (2)-"
   ]
  },
  {
   "cell_type": "code",
   "execution_count": 6,
   "id": "05092421-260d-4e5c-95f9-ff6c510c560b",
   "metadata": {},
   "outputs": [
    {
     "data": {
      "text/plain": [
       "('mercedes benz', 4)"
      ]
     },
     "execution_count": 6,
     "metadata": {},
     "output_type": "execute_result"
    }
   ],
   "source": [
    "class vehicle:\n",
    "    def __init__(self, name_of_vehicle, max_speed, average_of_vehicle):\n",
    "        self.name_of_vehicle= name_of_vehicle\n",
    "        self.max_speed= max_speed\n",
    "        self.average_of_vehicle= average_of_vehicle\n",
    "        \n",
    "class car(vehicle):\n",
    "    def seating_capacity(self, capacity):\n",
    "        self.capacity= capacity\n",
    "        return self.name_of_vehicle, self.capacity\n",
    "    \n",
    "    \n",
    "obj_car= car(\"mercedes benz\",250,100)\n",
    "obj_car.seating_capacity(4)\n",
    "        "
   ]
  },
  {
   "cell_type": "markdown",
   "id": "ffa0c9ab-3db9-4ae6-945b-3bff81a1a651",
   "metadata": {},
   "source": [
    "#### (3)-\n",
    "##### When a class is derived from more than one base class, it is called Multiple inheritance. The derived class inherits all the properties of base classes."
   ]
  },
  {
   "cell_type": "code",
   "execution_count": 8,
   "id": "5a819d95-9ee8-483d-9d38-d2ddc9672cbf",
   "metadata": {},
   "outputs": [
    {
     "name": "stdout",
     "output_type": "stream",
     "text": [
      "Niroj Kumar Dora\n",
      "Madhavi lata Dora\n"
     ]
    }
   ],
   "source": [
    "class father:\n",
    "    def father_name(self):\n",
    "        print(\"Niroj Kumar Dora\")\n",
    "\n",
    "class mother:\n",
    "    def mother_name(self):\n",
    "        print(\"Madhavi lata Dora\")\n",
    "        \n",
    "class child(father, mother):    # child class inherits both father and mother class\n",
    "    pass\n",
    "\n",
    "obj_child= child()\n",
    "obj_child.father_name()      # child class can access the function of father class\n",
    "obj_child.mother_name()      # child class can access the function of mother class\n",
    "    "
   ]
  },
  {
   "cell_type": "markdown",
   "id": "f1746707-1370-456f-add9-6f04018b4819",
   "metadata": {},
   "source": [
    "#### (4)-"
   ]
  },
  {
   "cell_type": "code",
   "execution_count": 3,
   "id": "148a9c8a-feb6-4109-b8a1-cff8d1a24122",
   "metadata": {},
   "outputs": [],
   "source": [
    "class pwskills:\n",
    "    def __init__(self, course_price, course_name):\n",
    "        self.__course_price= course_price\n",
    "        self.course_name= course_name\n",
    "        \n",
    "    @property                            # @property acts as getter and allows the user to access private variable\n",
    "    def course_price_access(self):\n",
    "        return self.__course_price\n",
    "    \n",
    "    @course_price_access.setter          # setter helps user to modify private variable\n",
    "    def course_price_set(self, price):\n",
    "        if price<= 3500:\n",
    "            pass\n",
    "        else:\n",
    "            self.__course_price= price\n",
    "        "
   ]
  },
  {
   "cell_type": "code",
   "execution_count": 2,
   "id": "afe05825-9fa5-4937-bc1e-80b54c081f33",
   "metadata": {},
   "outputs": [],
   "source": [
    "pw= pwskills(3500,\"DSM\")"
   ]
  },
  {
   "cell_type": "code",
   "execution_count": 7,
   "id": "57a6b60e-1fa9-414d-8acd-8bbbb5ed3a51",
   "metadata": {},
   "outputs": [
    {
     "data": {
      "text/plain": [
       "4000"
      ]
     },
     "execution_count": 7,
     "metadata": {},
     "output_type": "execute_result"
    }
   ],
   "source": [
    "pw.course_price_access    #getting the pvt variable"
   ]
  },
  {
   "cell_type": "code",
   "execution_count": 8,
   "id": "1dc4b65e-d749-4b9b-a7e4-61745a0a1b5f",
   "metadata": {},
   "outputs": [],
   "source": [
    "pw.course_price_set= 4000   # setting the pvt variable"
   ]
  },
  {
   "cell_type": "code",
   "execution_count": 9,
   "id": "87ca3139-ea77-4b4e-b0c7-df9ca807acf5",
   "metadata": {},
   "outputs": [
    {
     "data": {
      "text/plain": [
       "4000"
      ]
     },
     "execution_count": 9,
     "metadata": {},
     "output_type": "execute_result"
    }
   ],
   "source": [
    "# checking if the pvt variable is set-\n",
    "pw.course_price_access"
   ]
  },
  {
   "cell_type": "markdown",
   "id": "117cfe9a-6208-40b3-9b62-1e3daf20d52c",
   "metadata": {},
   "source": [
    "#### (5)- \n",
    "##### Method overriding- Method overriding is an ability that allows a child class to provide a specific implementation of a method that is already provided by one of its parent classes. When a method in a subclass has the same name, same parameters  and same return type as a method in its super-class, then the method in the subclass is said to override the method in the super-class."
   ]
  },
  {
   "cell_type": "code",
   "execution_count": 10,
   "id": "31294f47-4e5f-412c-8949-9bcc924d0af1",
   "metadata": {},
   "outputs": [],
   "source": [
    "class parent1:\n",
    "    def show(self):\n",
    "        print(\"this is in parent1\")\n",
    "        \n",
    "class parent2:\n",
    "    def details(self):\n",
    "        print(\"this is in parent2\")\n",
    "        \n",
    "class child(parent1, parent2):\n",
    "    def show(self):\n",
    "        print(\"this is in child\")\n",
    "        \n",
    "    "
   ]
  },
  {
   "cell_type": "code",
   "execution_count": 11,
   "id": "f1cdb6fd-5f0f-498e-ab0c-60fb774d9de8",
   "metadata": {},
   "outputs": [],
   "source": [
    "obj= child()"
   ]
  },
  {
   "cell_type": "code",
   "execution_count": 13,
   "id": "b09a3d0f-0302-4816-a87e-4424079c9ee8",
   "metadata": {},
   "outputs": [
    {
     "name": "stdout",
     "output_type": "stream",
     "text": [
      "this is in parent2\n"
     ]
    }
   ],
   "source": [
    "obj.details()"
   ]
  },
  {
   "cell_type": "code",
   "execution_count": 14,
   "id": "1d573809-c2a4-44a4-baec-5f2780797dc6",
   "metadata": {},
   "outputs": [
    {
     "name": "stdout",
     "output_type": "stream",
     "text": [
      "this is in child\n"
     ]
    }
   ],
   "source": [
    "obj.show()"
   ]
  },
  {
   "cell_type": "code",
   "execution_count": 15,
   "id": "7ca77d1e-d043-4227-92c9-0f973723625f",
   "metadata": {},
   "outputs": [],
   "source": [
    "# the show method of the child class overrides the show method of parent class"
   ]
  },
  {
   "cell_type": "code",
   "execution_count": null,
   "id": "45de8ab2-85cd-478b-b6f2-e65168ee4845",
   "metadata": {},
   "outputs": [],
   "source": []
  }
 ],
 "metadata": {
  "kernelspec": {
   "display_name": "Python 3 (ipykernel)",
   "language": "python",
   "name": "python3"
  },
  "language_info": {
   "codemirror_mode": {
    "name": "ipython",
    "version": 3
   },
   "file_extension": ".py",
   "mimetype": "text/x-python",
   "name": "python",
   "nbconvert_exporter": "python",
   "pygments_lexer": "ipython3",
   "version": "3.10.8"
  }
 },
 "nbformat": 4,
 "nbformat_minor": 5
}
